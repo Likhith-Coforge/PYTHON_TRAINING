{
 "cells": [
  {
   "cell_type": "code",
   "execution_count": 1,
   "id": "1db7f69f",
   "metadata": {},
   "outputs": [],
   "source": [
    "class Dog:\n",
    "    tricks = []\n",
    "    def add_tricks(self,trick):\n",
    "        self.tricks.append(trick)"
   ]
  },
  {
   "cell_type": "code",
   "execution_count": 2,
   "id": "58ffd7a9",
   "metadata": {},
   "outputs": [
    {
     "data": {
      "text/plain": [
       "['sit', 'roll over']"
      ]
     },
     "execution_count": 2,
     "metadata": {},
     "output_type": "execute_result"
    }
   ],
   "source": [
    "dog1 = Dog()\n",
    "dog2 = Dog()\n",
    "dog1.add_tricks('sit')\n",
    "dog2.add_tricks('roll over')\n",
    "\n",
    "dog1.tricks\n",
    "dog2.tricks"
   ]
  },
  {
   "cell_type": "code",
   "execution_count": 4,
   "id": "fe4fcb7d",
   "metadata": {},
   "outputs": [],
   "source": [
    "class Car:\n",
    "    brand = 'KIA'\n",
    "    def add_num_plate(self,num_plate):\n",
    "        self.num_plate = num_plate\n",
    "\n",
    "        "
   ]
  },
  {
   "cell_type": "code",
   "execution_count": 5,
   "id": "179c4e7c",
   "metadata": {},
   "outputs": [
    {
     "data": {
      "text/plain": [
       "'KIA'"
      ]
     },
     "execution_count": 5,
     "metadata": {},
     "output_type": "execute_result"
    }
   ],
   "source": [
    "car1 = Car()\n",
    "car1.brand"
   ]
  },
  {
   "cell_type": "code",
   "execution_count": 6,
   "id": "95d10298",
   "metadata": {},
   "outputs": [],
   "source": [
    "car1.add_num_plate('TG 0101')"
   ]
  },
  {
   "cell_type": "code",
   "execution_count": 7,
   "id": "a39bb4f2",
   "metadata": {},
   "outputs": [
    {
     "data": {
      "text/plain": [
       "'TG 0101'"
      ]
     },
     "execution_count": 7,
     "metadata": {},
     "output_type": "execute_result"
    }
   ],
   "source": [
    "car1.num_plate"
   ]
  },
  {
   "cell_type": "code",
   "execution_count": 16,
   "id": "7abeec90",
   "metadata": {},
   "outputs": [],
   "source": [
    "car2 = Car()"
   ]
  },
  {
   "cell_type": "code",
   "execution_count": 17,
   "id": "f01163c1",
   "metadata": {},
   "outputs": [],
   "source": [
    "car2.add_num_plate('TG 0123')"
   ]
  },
  {
   "cell_type": "code",
   "execution_count": 18,
   "id": "457f4ae7",
   "metadata": {},
   "outputs": [
    {
     "data": {
      "text/plain": [
       "('KIA', 'TG 0123')"
      ]
     },
     "execution_count": 18,
     "metadata": {},
     "output_type": "execute_result"
    }
   ],
   "source": [
    "car2.brand, car2.num_plate"
   ]
  },
  {
   "cell_type": "code",
   "execution_count": 19,
   "id": "5ff2f05f",
   "metadata": {},
   "outputs": [],
   "source": [
    "car1.brand = 'MARUTHI'"
   ]
  },
  {
   "cell_type": "code",
   "execution_count": 20,
   "id": "dc810272",
   "metadata": {},
   "outputs": [
    {
     "data": {
      "text/plain": [
       "'KIA'"
      ]
     },
     "execution_count": 20,
     "metadata": {},
     "output_type": "execute_result"
    }
   ],
   "source": [
    "car2.brand"
   ]
  },
  {
   "cell_type": "code",
   "execution_count": 21,
   "id": "617a920d",
   "metadata": {},
   "outputs": [
    {
     "data": {
      "text/plain": [
       "'MARUTHI'"
      ]
     },
     "execution_count": 21,
     "metadata": {},
     "output_type": "execute_result"
    }
   ],
   "source": [
    "car1.brand"
   ]
  },
  {
   "cell_type": "code",
   "execution_count": null,
   "id": "f817acb9",
   "metadata": {},
   "outputs": [],
   "source": [
    "class BankAccount:\n",
    "    __balance = 1000\n",
    "\n",
    "    def get_balance(self):\n",
    "        return self.__balance\n",
    "    \n",
    "    def deposit(self,amount):\n",
    "        if amount >= 0:\n",
    "            self.__balance += amount\n",
    "\n",
    "    def withdrawl(self,amount):\n",
    "        if amount <= 0:\n",
    "            return\n",
    "        elif self.__balance >= amount:\n",
    "            self.__balance -= amount"
   ]
  },
  {
   "cell_type": "code",
   "execution_count": 51,
   "id": "8f25c5f4",
   "metadata": {},
   "outputs": [],
   "source": [
    "alice = BankAccount()"
   ]
  },
  {
   "cell_type": "code",
   "execution_count": 52,
   "id": "169ca583",
   "metadata": {},
   "outputs": [
    {
     "data": {
      "text/plain": [
       "1000"
      ]
     },
     "execution_count": 52,
     "metadata": {},
     "output_type": "execute_result"
    }
   ],
   "source": [
    "alice.get_balance()"
   ]
  },
  {
   "cell_type": "code",
   "execution_count": 53,
   "id": "19e08381",
   "metadata": {},
   "outputs": [],
   "source": [
    "alice.deposit(-200)"
   ]
  },
  {
   "cell_type": "code",
   "execution_count": 54,
   "id": "7d7cf3fa",
   "metadata": {},
   "outputs": [
    {
     "data": {
      "text/plain": [
       "1000"
      ]
     },
     "execution_count": 54,
     "metadata": {},
     "output_type": "execute_result"
    }
   ],
   "source": [
    "alice.get_balance()"
   ]
  },
  {
   "cell_type": "code",
   "execution_count": 55,
   "id": "94d18708",
   "metadata": {},
   "outputs": [],
   "source": [
    "alice.withdrawl(1001)"
   ]
  },
  {
   "cell_type": "code",
   "execution_count": 56,
   "id": "ab36eeba",
   "metadata": {},
   "outputs": [
    {
     "data": {
      "text/plain": [
       "1000"
      ]
     },
     "execution_count": 56,
     "metadata": {},
     "output_type": "execute_result"
    }
   ],
   "source": [
    "alice.get_balance()"
   ]
  },
  {
   "cell_type": "code",
   "execution_count": 57,
   "id": "2dbf1652",
   "metadata": {},
   "outputs": [],
   "source": [
    "alice.deposit(500)"
   ]
  },
  {
   "cell_type": "code",
   "execution_count": 58,
   "id": "9f9dc350",
   "metadata": {},
   "outputs": [
    {
     "data": {
      "text/plain": [
       "1500"
      ]
     },
     "execution_count": 58,
     "metadata": {},
     "output_type": "execute_result"
    }
   ],
   "source": [
    "alice.get_balance()"
   ]
  },
  {
   "cell_type": "code",
   "execution_count": 59,
   "id": "a5cc4069",
   "metadata": {},
   "outputs": [],
   "source": [
    "alice.withdrawl(1200)"
   ]
  },
  {
   "cell_type": "code",
   "execution_count": 60,
   "id": "0b3fb4ce",
   "metadata": {},
   "outputs": [
    {
     "data": {
      "text/plain": [
       "300"
      ]
     },
     "execution_count": 60,
     "metadata": {},
     "output_type": "execute_result"
    }
   ],
   "source": [
    "alice.get_balance()"
   ]
  }
 ],
 "metadata": {
  "kernelspec": {
   "display_name": "vir_env",
   "language": "python",
   "name": "python3"
  },
  "language_info": {
   "codemirror_mode": {
    "name": "ipython",
    "version": 3
   },
   "file_extension": ".py",
   "mimetype": "text/x-python",
   "name": "python",
   "nbconvert_exporter": "python",
   "pygments_lexer": "ipython3",
   "version": "3.13.5"
  }
 },
 "nbformat": 4,
 "nbformat_minor": 5
}
